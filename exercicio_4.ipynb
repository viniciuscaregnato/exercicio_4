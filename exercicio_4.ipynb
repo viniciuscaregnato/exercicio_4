{
 "cells": [
  {
   "cell_type": "code",
   "execution_count": null,
   "id": "e28de142-8dc0-4dbd-ad43-d178fb3e6c2f",
   "metadata": {},
   "outputs": [],
   "source": [
    "\"\"\"exercicio 4\n",
    "autor: vinicius\n",
    "versao: 0.0.1\"\"\""
   ]
  },
  {
   "cell_type": "code",
   "execution_count": 7,
   "id": "e09765e4-3fb0-4e3e-b16f-530fd2c11981",
   "metadata": {},
   "outputs": [],
   "source": [
    "# Alocação de memoria\n",
    "\n",
    "horas_trabalhadas = \"\""
   ]
  },
  {
   "cell_type": "code",
   "execution_count": 9,
   "id": "be57e2ae-9952-4d86-890a-abf7ca707e3b",
   "metadata": {},
   "outputs": [
    {
     "name": "stdin",
     "output_type": "stream",
     "text": [
      "escreva o numero de horas trabalhadas 20\n"
     ]
    }
   ],
   "source": [
    "# Entrada de dados\n",
    "\n",
    "horas_trabalhadas = int(input(\"escreva o numero de horas trabalhadas: \"))"
   ]
  },
  {
   "cell_type": "code",
   "execution_count": 11,
   "id": "5432cda2-5504-4e7e-9fc9-b8c768d1ba5c",
   "metadata": {},
   "outputs": [],
   "source": [
    "# Processamento de dados\n",
    "salario_bruto = 40*horas_trabalhadas\n",
    "desconto = salario_bruto*0.3\n",
    "salario_liquido = salario_bruto - desconto"
   ]
  },
  {
   "cell_type": "code",
   "execution_count": 13,
   "id": "76d1ae21-fa90-4d2f-aaec-2f5faef3c656",
   "metadata": {},
   "outputs": [
    {
     "name": "stdout",
     "output_type": "stream",
     "text": [
      "\n",
      "salario bruto:800\n",
      " desconto:240.0\n",
      " salario liquido:560.0\n"
     ]
    }
   ],
   "source": [
    "#Saída de dados\n",
    "\n",
    "print(\"\\n\" + \"salario bruto:\" + str(salario_bruto) + \"\\n\",\n",
    "     \"desconto:\" + str(desconto) + \"\\n\",\n",
    "     \"salario liquido:\" + str(salario_liquido))"
   ]
  }
 ],
 "metadata": {
  "kernelspec": {
   "display_name": "Python [conda env:base] *",
   "language": "python",
   "name": "conda-base-py"
  },
  "language_info": {
   "codemirror_mode": {
    "name": "ipython",
    "version": 3
   },
   "file_extension": ".py",
   "mimetype": "text/x-python",
   "name": "python",
   "nbconvert_exporter": "python",
   "pygments_lexer": "ipython3",
   "version": "3.12.7"
  }
 },
 "nbformat": 4,
 "nbformat_minor": 5
}
